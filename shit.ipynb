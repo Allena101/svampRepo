{
 "cells": [
  {
   "cell_type": "code",
   "execution_count": null,
   "metadata": {},
   "outputs": [],
   "source": [
    "import base64\n",
    "\n",
    "@app.route(\"/\", methods=[\"get\", \"post\"])\n",
    "def index():\n",
    "    if request.method == \"post\":\n",
    "        # ...\n",
    "        mushroom_images = db.session.query(mushroomimage).all()\n",
    "        image_data_list = []\n",
    "        for img in mushroom_images:\n",
    "            print(img.mushroom_id)\n",
    "            image_data = img.image\n",
    "            image_data_base64 = base64.b64encode(image_data).decode('utf-8')\n",
    "            image_data_list.append(image_data_base64)\n",
    "        return render_template(\"index.html\", images=image_data_list)\n",
    "    # ...\n"
   ]
  },
  {
   "cell_type": "code",
   "execution_count": null,
   "metadata": {},
   "outputs": [],
   "source": [
    "{% for img in images %}\n",
    "    <img src=\"data:image/png;base64,{{ img }}\" alt=\"Mushroom Image\">\n",
    "{% endfor %}"
   ]
  },
  {
   "cell_type": "code",
   "execution_count": null,
   "metadata": {},
   "outputs": [],
   "source": [
    "@app.route(\"/\", methods=[\"get\", \"post\"])\n",
    "def index():\n",
    "    images = []\n",
    "    if request.method == \"post\":\n",
    "        # ...\n",
    "        mushroom_images = db.session.query(mushroomimage).all()\n",
    "        for img in mushroom_images:\n",
    "            print(img.mushroom_id)\n",
    "            image_data = img.image\n",
    "            image_data_base64 = base64.b64encode(image_data).decode('utf-8')\n",
    "            images.append(image_data_base64)\n",
    "    return render_template(\"index.html\", images=images)\n"
   ]
  },
  {
   "cell_type": "code",
   "execution_count": null,
   "metadata": {},
   "outputs": [],
   "source": [
    "To make the image a hyperlink that links to another template, you can wrap the img tag in an a tag. You can use the url_for function to generate the URL for the route that should be linked to.\n",
    "\n",
    "\n",
    "\n",
    "<!-- index.html -->\n",
    "<!-- ... -->\n",
    "{% for img in images %}\n",
    "    <a href=\"{{ url_for('your_route_name') }}\">\n",
    "        <img src=\"data:image/png;base64,{{ img }}\" alt=\"Mushroom Image\">\n",
    "    </a>\n",
    "{% else %}\n",
    "    <p>No images found.</p>\n",
    "{% endfor %}\n",
    "<!-- ... -->\n"
   ]
  }
 ],
 "metadata": {
  "language_info": {
   "name": "python"
  },
  "orig_nbformat": 4
 },
 "nbformat": 4,
 "nbformat_minor": 2
}
