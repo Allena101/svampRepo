{
 "cells": [
  {
   "cell_type": "code",
   "execution_count": null,
   "metadata": {},
   "outputs": [],
   "source": [
    "{% if not images %}\n",
    "    <p>Ursäkta, inga svampar kunde hittas med den specifika sökningen</p>\n",
    "    <img src=\"{{ url_for('static', filename='svampar.jpg') }}\" alt=\"null search results\">\n",
    "{% endif %}"
   ]
  },
  {
   "cell_type": "code",
   "execution_count": null,
   "metadata": {},
   "outputs": [],
   "source": [
    "{% for img in images %}\n",
    "  <a href=\"{{ url_for('test',  mushroom_name=name) }}\">\n",
    "    <img src=\"data:image/png;base64,{{ img }}\" alt=\"mushroom image\">\n",
    "  </a>\n",
    "{% endfor %}\n",
    "\n",
    "\n",
    "{% if images %}\n",
    "  {% for img in images %}\n",
    "    <a href=\"{{ url_for('test',  mushroom_name=name) }}\">\n",
    "      <img src=\"data:image/png;base64,{{ img }}\" alt=\"mushroom image\">\n",
    "    </a>\n",
    "  {% endfor %}\n",
    "{% else %}\n",
    "  <p>No mushrooms matching your search criteria were found.</p>\n",
    "{% endif %}"
   ]
  },
  {
   "cell_type": "code",
   "execution_count": null,
   "metadata": {},
   "outputs": [],
   "source": []
  },
  {
   "cell_type": "code",
   "execution_count": null,
   "metadata": {},
   "outputs": [],
   "source": []
  },
  {
   "cell_type": "code",
   "execution_count": null,
   "metadata": {},
   "outputs": [],
   "source": []
  },
  {
   "cell_type": "code",
   "execution_count": null,
   "metadata": {},
   "outputs": [],
   "source": []
  },
  {
   "cell_type": "code",
   "execution_count": null,
   "metadata": {},
   "outputs": [],
   "source": []
  },
  {
   "cell_type": "code",
   "execution_count": null,
   "metadata": {},
   "outputs": [],
   "source": []
  },
  {
   "cell_type": "code",
   "execution_count": null,
   "metadata": {},
   "outputs": [],
   "source": []
  },
  {
   "cell_type": "code",
   "execution_count": null,
   "metadata": {},
   "outputs": [],
   "source": []
  },
  {
   "cell_type": "code",
   "execution_count": null,
   "metadata": {},
   "outputs": [],
   "source": []
  }
 ],
 "metadata": {
  "language_info": {
   "name": "python"
  },
  "orig_nbformat": 4
 },
 "nbformat": 4,
 "nbformat_minor": 2
}
